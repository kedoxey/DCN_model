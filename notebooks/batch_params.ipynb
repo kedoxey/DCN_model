{
 "cells": [
  {
   "cell_type": "code",
   "execution_count": 1,
   "id": "ac49f09e",
   "metadata": {},
   "outputs": [],
   "source": [
    "pyr_syn_opts = {'sgc': {'weight': 0.0327},                 # default = 0.000327\n",
    "                    'tuberculoventral': {'weight': 0.002705}}  # default = 0.002705"
   ]
  },
  {
   "cell_type": "code",
   "execution_count": 2,
   "id": "66518e99",
   "metadata": {},
   "outputs": [],
   "source": [
    "sgc_weights = [0.000327, 0.003, 0.03, 0.3]\n",
    "tv_weights = [0.002705, 0.02, 0.2]"
   ]
  },
  {
   "cell_type": "code",
   "execution_count": 3,
   "id": "b80dd524",
   "metadata": {},
   "outputs": [],
   "source": [
    "import itertools"
   ]
  },
  {
   "cell_type": "code",
   "execution_count": 8,
   "id": "d3c4affb",
   "metadata": {},
   "outputs": [],
   "source": [
    "weight_combos = list(itertools.product(*[sgc_weights, tv_weights]))"
   ]
  },
  {
   "cell_type": "code",
   "execution_count": 9,
   "id": "e4da6543",
   "metadata": {},
   "outputs": [],
   "source": [
    "syn_opts = []\n",
    "for weight_combo in weight_combos:\n",
    "    syn_opt = {'sgc': {'weight': weight_combo[0]},\n",
    "               'tuberculoventral': {'weight': weight_combo[1]}}\n",
    "    syn_opts.append(syn_opt)\n"
   ]
  },
  {
   "cell_type": "code",
   "execution_count": 10,
   "id": "6e48bb5c",
   "metadata": {},
   "outputs": [
    {
     "data": {
      "text/plain": [
       "[{'sgc': {'weight': 0.000327}, 'tuberculoventral': {'weight': 0.002705}},\n",
       " {'sgc': {'weight': 0.000327}, 'tuberculoventral': {'weight': 0.02}},\n",
       " {'sgc': {'weight': 0.000327}, 'tuberculoventral': {'weight': 0.2}},\n",
       " {'sgc': {'weight': 0.003}, 'tuberculoventral': {'weight': 0.002705}},\n",
       " {'sgc': {'weight': 0.003}, 'tuberculoventral': {'weight': 0.02}},\n",
       " {'sgc': {'weight': 0.003}, 'tuberculoventral': {'weight': 0.2}},\n",
       " {'sgc': {'weight': 0.03}, 'tuberculoventral': {'weight': 0.002705}},\n",
       " {'sgc': {'weight': 0.03}, 'tuberculoventral': {'weight': 0.02}},\n",
       " {'sgc': {'weight': 0.03}, 'tuberculoventral': {'weight': 0.2}},\n",
       " {'sgc': {'weight': 0.3}, 'tuberculoventral': {'weight': 0.002705}},\n",
       " {'sgc': {'weight': 0.3}, 'tuberculoventral': {'weight': 0.02}},\n",
       " {'sgc': {'weight': 0.3}, 'tuberculoventral': {'weight': 0.2}}]"
      ]
     },
     "execution_count": 10,
     "metadata": {},
     "output_type": "execute_result"
    }
   ],
   "source": [
    "syn_opts"
   ]
  }
 ],
 "metadata": {
  "kernelspec": {
   "display_name": "base",
   "language": "python",
   "name": "python3"
  },
  "language_info": {
   "codemirror_mode": {
    "name": "ipython",
    "version": 3
   },
   "file_extension": ".py",
   "mimetype": "text/x-python",
   "name": "python",
   "nbconvert_exporter": "python",
   "pygments_lexer": "ipython3",
   "version": "3.10.16"
  }
 },
 "nbformat": 4,
 "nbformat_minor": 5
}
