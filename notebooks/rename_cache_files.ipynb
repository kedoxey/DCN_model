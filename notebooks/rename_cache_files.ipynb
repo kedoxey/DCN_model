{
 "cells": [
  {
   "cell_type": "code",
   "execution_count": 1,
   "id": "0851a08a",
   "metadata": {},
   "outputs": [],
   "source": [
    "from pathlib import Path"
   ]
  },
  {
   "cell_type": "code",
   "execution_count": 7,
   "id": "4e26d94f",
   "metadata": {},
   "outputs": [],
   "source": [
    "cache_dir = Path('/home/kedoxey/DCN_model/cache')\n",
    "\n",
    "for i, f in enumerate(cache_dir.iterdir()):\n",
    "    temp = 5\n",
    "    if 'cf' not in f.name:\n",
    "        # new_name = \n",
    "        left, right = f.name.split('_syntype')\n",
    "        left += '_cf=16000_syntype'\n",
    "        new_name = left + right\n",
    "        temp = 6\n",
    "        f.rename(f.parent/new_name)"
   ]
  }
 ],
 "metadata": {
  "kernelspec": {
   "display_name": "python3_10",
   "language": "python",
   "name": "python3"
  },
  "language_info": {
   "codemirror_mode": {
    "name": "ipython",
    "version": 3
   },
   "file_extension": ".py",
   "mimetype": "text/x-python",
   "name": "python",
   "nbconvert_exporter": "python",
   "pygments_lexer": "ipython3",
   "version": "3.10.16"
  }
 },
 "nbformat": 4,
 "nbformat_minor": 5
}
