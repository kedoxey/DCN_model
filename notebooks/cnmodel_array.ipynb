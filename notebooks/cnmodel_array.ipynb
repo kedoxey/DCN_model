{
 "cells": [
  {
   "cell_type": "code",
   "execution_count": 1,
   "id": "7d08f430",
   "metadata": {},
   "outputs": [
    {
     "name": "stderr",
     "output_type": "stream",
     "text": [
      "Warning: no DISPLAY environment variable.\n",
      "--No graphics will be displayed.\n"
     ]
    }
   ],
   "source": [
    "import sys\n",
    "import numpy as np\n",
    "import pandas as pd\n",
    "# import pyqtgraph as pg\n",
    "import cnmodel as cnm\n",
    "from cnmodel import populations\n",
    "from cnmodel.util import sound\n",
    "from neuron import h\n",
    "import matplotlib.pyplot as plt"
   ]
  },
  {
   "cell_type": "code",
   "execution_count": 2,
   "id": "16a22cab",
   "metadata": {},
   "outputs": [],
   "source": [
    "colors = {'stim': 'tab:blue',\n",
    "          'sgc': 'tab:pink',\n",
    "          'fusi': 'tab:purple',\n",
    "          'int': 'tab:green',\n",
    "          'ic': 'tab:orange'}"
   ]
  },
  {
   "cell_type": "code",
   "execution_count": 3,
   "id": "ed1172aa",
   "metadata": {},
   "outputs": [],
   "source": [
    "sgc_pop = populations.SGC()\n",
    "fusi_pop = populations.Pyramidal()"
   ]
  },
  {
   "cell_type": "code",
   "execution_count": 4,
   "id": "866bfc52",
   "metadata": {},
   "outputs": [],
   "source": [
    "sgc_pop.connect(fusi_pop)"
   ]
  },
  {
   "cell_type": "code",
   "execution_count": 5,
   "id": "e1ad228e",
   "metadata": {},
   "outputs": [
    {
     "data": {
      "text/plain": [
       "array([4451.21750934, 4453.37777759, 4455.53909426, 4457.70145987,\n",
       "       4459.86487491, 4462.02933991, 4464.19485536, 4466.36142178,\n",
       "       4468.52903969, 4470.69770958, 4472.86743198, 4475.03820738,\n",
       "       4477.21003631, 4479.38291927, 4481.55685678, 4483.73184934,\n",
       "       4485.90789747, 4488.08500169, 4490.2631625 , 4492.44238041])"
      ]
     },
     "execution_count": 5,
     "metadata": {},
     "output_type": "execute_result"
    }
   ],
   "source": [
    "num_total_sgc = len(sgc_pop.cells)\n",
    "mid_sgc = num_total_sgc // 2\n",
    "\n",
    "num_cells = 20\n",
    "fusi_cfs = sgc_pop._get_cf_array(species='mouse')[mid_sgc - num_cells//2 : mid_sgc + num_cells//2]\n",
    "fusi_cfs"
   ]
  },
  {
   "cell_type": "code",
   "execution_count": 6,
   "id": "b97bb48e",
   "metadata": {},
   "outputs": [],
   "source": [
    "fusi_cell_ids = []\n",
    "fusi_cells = []\n",
    "\n",
    "for fusi_cf in fusi_cfs:\n",
    "\n",
    "    fusi_cell_id = fusi_pop.select(1, cf=fusi_cf, create=True)[0]\n",
    "    fusi_cell = fusi_pop.get_cell(fusi_cell_id)\n",
    "    \n",
    "    fusi_cell_ids.append(fusi_cell_id)\n",
    "    fusi_cells.append(fusi_cell)\n",
    "\n",
    "fusi_pop.resolve_inputs(depth=1)"
   ]
  },
  {
   "cell_type": "code",
   "execution_count": 7,
   "id": "7f147e98",
   "metadata": {},
   "outputs": [],
   "source": [
    "sgc_cells_ids = []\n",
    "sgc_cells = []\n",
    "\n",
    "for fusi_cell_id in fusi_cell_ids:\n",
    "\n",
    "    sgc_cell_ids = fusi_pop.cell_connections(fusi_cell_id)[sgc_pop]\n",
    "    sgc_cells.extend([sgc_pop.get_cell(i) for i in sgc_cell_ids])\n",
    "    sgc_cells_ids.extend(sgc_cell_ids)\n",
    "\n",
    "sgc_cells = list(dict.fromkeys(sgc_cells))\n",
    "sgc_cells_ids = list(dict.fromkeys(sgc_cells_ids))"
   ]
  },
  {
   "cell_type": "code",
   "execution_count": 8,
   "id": "15158a91",
   "metadata": {},
   "outputs": [
    {
     "data": {
      "text/plain": [
       "232"
      ]
     },
     "execution_count": 8,
     "metadata": {},
     "output_type": "execute_result"
    }
   ],
   "source": [
    "len(sgc_cells)"
   ]
  },
  {
   "cell_type": "code",
   "execution_count": 35,
   "id": "34b0ba8a",
   "metadata": {},
   "outputs": [
    {
     "data": {
      "text/plain": [
       "[<matplotlib.lines.Line2D at 0x1554b522caf0>]"
      ]
     },
     "execution_count": 35,
     "metadata": {},
     "output_type": "execute_result"
    },
    {
     "data": {
      "image/png": "[encoded data removed]",
      "text/plain": [
       "<Figure size 640x480 with 1 Axes>"
      ]
     },
     "metadata": {},
     "output_type": "display_data"
    }
   ],
   "source": [
    "stim_freq = 4470\n",
    "stim = sound.TonePip(rate=100e3, duration=100, f0=stim_freq, dbspl=80,\n",
    "                              ramp_duration=2.5e-3, pip_duration=20, pip_start=[40])\n",
    "\n",
    "plt.plot(stim.time, stim.sound, color=colors['stim'])"
   ]
  },
  {
   "cell_type": "code",
   "execution_count": 37,
   "id": "e019db0d",
   "metadata": {},
   "outputs": [
    {
     "ename": "KeyboardInterrupt",
     "evalue": "",
     "output_type": "error",
     "traceback": [
      "\u001b[0;31m---------------------------------------------------------------------------\u001b[0m",
      "\u001b[0;31mKeyboardInterrupt\u001b[0m                         Traceback (most recent call last)",
      "Cell \u001b[0;32mIn[37], line 2\u001b[0m\n\u001b[1;32m      1\u001b[0m \u001b[38;5;28;01mfor\u001b[39;00m sgc_cell \u001b[38;5;129;01min\u001b[39;00m sgc_cells:\n\u001b[0;32m----> 2\u001b[0m     \u001b[43msgc_cell\u001b[49m\u001b[38;5;241;43m.\u001b[39;49m\u001b[43mset_sound_stim\u001b[49m\u001b[43m(\u001b[49m\u001b[43mstim\u001b[49m\u001b[43m,\u001b[49m\u001b[43m \u001b[49m\u001b[43mseed\u001b[49m\u001b[38;5;241;43m=\u001b[39;49m\u001b[38;5;241;43m74\u001b[39;49m\u001b[43m,\u001b[49m\u001b[43m \u001b[49m\u001b[43msimulator\u001b[49m\u001b[38;5;241;43m=\u001b[39;49m\u001b[38;5;124;43m'\u001b[39;49m\u001b[38;5;124;43mcochlea\u001b[39;49m\u001b[38;5;124;43m'\u001b[39;49m\u001b[43m)\u001b[49m\n",
      "File \u001b[0;32m~/cnmodel/cnmodel/cells/sgc.py:127\u001b[0m, in \u001b[0;36mDummySGC.set_sound_stim\u001b[0;34m(self, stim, seed, simulator)\u001b[0m\n\u001b[1;32m    124\u001b[0m \u001b[38;5;250m\u001b[39m\u001b[38;5;124;03m\"\"\" Set the sound stimulus used to generate this cell's spike train.\u001b[39;00m\n\u001b[1;32m    125\u001b[0m \u001b[38;5;124;03m\"\"\"\u001b[39;00m\n\u001b[1;32m    126\u001b[0m \u001b[38;5;28mself\u001b[39m\u001b[38;5;241m.\u001b[39m_sound_stim \u001b[38;5;241m=\u001b[39m stim\n\u001b[0;32m--> 127\u001b[0m spikes \u001b[38;5;241m=\u001b[39m \u001b[38;5;28;43mself\u001b[39;49m\u001b[38;5;241;43m.\u001b[39;49m\u001b[43mgenerate_spiketrain\u001b[49m\u001b[43m(\u001b[49m\u001b[43mstim\u001b[49m\u001b[43m,\u001b[49m\u001b[43m \u001b[49m\u001b[43mseed\u001b[49m\u001b[43m,\u001b[49m\u001b[43m \u001b[49m\u001b[43msimulator\u001b[49m\u001b[43m)\u001b[49m\n\u001b[1;32m    128\u001b[0m \u001b[38;5;28mself\u001b[39m\u001b[38;5;241m.\u001b[39mset_spiketrain(spikes)\n",
      "File \u001b[0;32m~/cnmodel/cnmodel/cells/sgc.py:133\u001b[0m, in \u001b[0;36mDummySGC.generate_spiketrain\u001b[0;34m(self, stim, seed, simulator)\u001b[0m\n\u001b[1;32m    131\u001b[0m \u001b[38;5;28;01mif\u001b[39;00m simulator \u001b[38;5;129;01mis\u001b[39;00m \u001b[38;5;28;01mNone\u001b[39;00m:\n\u001b[1;32m    132\u001b[0m     simulator \u001b[38;5;241m=\u001b[39m \u001b[38;5;28mself\u001b[39m\u001b[38;5;241m.\u001b[39m_simulator\n\u001b[0;32m--> 133\u001b[0m spikes \u001b[38;5;241m=\u001b[39m \u001b[43man_model\u001b[49m\u001b[38;5;241;43m.\u001b[39;49m\u001b[43mget_spiketrain\u001b[49m\u001b[43m(\u001b[49m\u001b[43mcf\u001b[49m\u001b[38;5;241;43m=\u001b[39;49m\u001b[38;5;28;43mself\u001b[39;49m\u001b[38;5;241;43m.\u001b[39;49m\u001b[43mcf\u001b[49m\u001b[43m,\u001b[49m\u001b[43m \u001b[49m\u001b[43msr\u001b[49m\u001b[38;5;241;43m=\u001b[39;49m\u001b[38;5;28;43mself\u001b[39;49m\u001b[38;5;241;43m.\u001b[39;49m\u001b[43msr\u001b[49m\u001b[43m,\u001b[49m\u001b[43m \u001b[49m\u001b[43mseed\u001b[49m\u001b[38;5;241;43m=\u001b[39;49m\u001b[43mseed\u001b[49m\u001b[43m,\u001b[49m\u001b[43m \u001b[49m\n\u001b[1;32m    134\u001b[0m \u001b[43m    \u001b[49m\u001b[43mstim\u001b[49m\u001b[38;5;241;43m=\u001b[39;49m\u001b[43mstim\u001b[49m\u001b[43m,\u001b[49m\u001b[43m \u001b[49m\u001b[43msimulator\u001b[49m\u001b[38;5;241;43m=\u001b[39;49m\u001b[43msimulator\u001b[49m\u001b[43m)\u001b[49m\n\u001b[1;32m    135\u001b[0m \u001b[38;5;28;01mreturn\u001b[39;00m spikes\n",
      "File \u001b[0;32m~/cnmodel/cnmodel/an_model/cache.py:70\u001b[0m, in \u001b[0;36mget_spiketrain\u001b[0;34m(cf, sr, stim, seed, verbose, **kwds)\u001b[0m\n\u001b[1;32m     68\u001b[0m \u001b[38;5;28;01mif\u001b[39;00m verbose:\n\u001b[1;32m     69\u001b[0m     logging\u001b[38;5;241m.\u001b[39minfo(\u001b[38;5;124m\"\u001b[39m\u001b[38;5;124mGenerate new AN spike train: \u001b[39m\u001b[38;5;132;01m%s\u001b[39;00m\u001b[38;5;124m\"\u001b[39m, filename)\n\u001b[0;32m---> 70\u001b[0m data \u001b[38;5;241m=\u001b[39m \u001b[43mgenerate_spiketrain\u001b[49m\u001b[43m(\u001b[49m\u001b[43mcf\u001b[49m\u001b[43m,\u001b[49m\u001b[43m \u001b[49m\u001b[43msr\u001b[49m\u001b[43m,\u001b[49m\u001b[43m \u001b[49m\u001b[43mstim\u001b[49m\u001b[43m,\u001b[49m\u001b[43m \u001b[49m\u001b[43mseed\u001b[49m\u001b[43m,\u001b[49m\u001b[43m \u001b[49m\u001b[38;5;241;43m*\u001b[39;49m\u001b[38;5;241;43m*\u001b[39;49m\u001b[43mkwds\u001b[49m\u001b[43m)\u001b[49m\n\u001b[1;32m     71\u001b[0m \u001b[38;5;28;01mif\u001b[39;00m \u001b[38;5;124m'\u001b[39m\u001b[38;5;124m--no-an-cache\u001b[39m\u001b[38;5;124m'\u001b[39m \u001b[38;5;129;01mnot\u001b[39;00m \u001b[38;5;129;01min\u001b[39;00m sys\u001b[38;5;241m.\u001b[39margv:\n\u001b[1;32m     72\u001b[0m     np\u001b[38;5;241m.\u001b[39msavez_compressed(filename, data\u001b[38;5;241m=\u001b[39mdata)\n",
      "File \u001b[0;32m~/cnmodel/cnmodel/an_model/cache.py:162\u001b[0m, in \u001b[0;36mgenerate_spiketrain\u001b[0;34m(cf, sr, stim, seed, simulator, **kwds)\u001b[0m\n\u001b[1;32m    160\u001b[0m     srgrp \u001b[38;5;241m=\u001b[39m [\u001b[38;5;241m0\u001b[39m,\u001b[38;5;241m0\u001b[39m,\u001b[38;5;241m0\u001b[39m] \u001b[38;5;66;03m# H, M, L (but input is 1=L, 2=M, H = 3)\u001b[39;00m\n\u001b[1;32m    161\u001b[0m     srgrp[\u001b[38;5;241m2\u001b[39m\u001b[38;5;241m-\u001b[39msr] \u001b[38;5;241m=\u001b[39m \u001b[38;5;241m1\u001b[39m\n\u001b[0;32m--> 162\u001b[0m     sp \u001b[38;5;241m=\u001b[39m \u001b[43mcochlea\u001b[49m\u001b[38;5;241;43m.\u001b[39;49m\u001b[43mrun_zilany2014\u001b[49m\u001b[43m(\u001b[49m\n\u001b[1;32m    163\u001b[0m \u001b[43m            \u001b[49m\u001b[43mstim\u001b[49m\u001b[38;5;241;43m.\u001b[39;49m\u001b[43msound\u001b[49m\u001b[43m,\u001b[49m\n\u001b[1;32m    164\u001b[0m \u001b[43m            \u001b[49m\u001b[43mfs\u001b[49m\u001b[38;5;241;43m=\u001b[39;49m\u001b[43mfs\u001b[49m\u001b[43m,\u001b[49m\n\u001b[1;32m    165\u001b[0m \u001b[43m            \u001b[49m\u001b[43manf_num\u001b[49m\u001b[38;5;241;43m=\u001b[39;49m\u001b[43msrgrp\u001b[49m\u001b[43m,\u001b[49m\n\u001b[1;32m    166\u001b[0m \u001b[43m            \u001b[49m\u001b[43mcf\u001b[49m\u001b[38;5;241;43m=\u001b[39;49m\u001b[43mcf\u001b[49m\u001b[43m,\u001b[49m\n\u001b[1;32m    167\u001b[0m \u001b[43m            \u001b[49m\u001b[43mseed\u001b[49m\u001b[38;5;241;43m=\u001b[39;49m\u001b[43mseed\u001b[49m\u001b[43m,\u001b[49m\n\u001b[1;32m    168\u001b[0m \u001b[43m            \u001b[49m\u001b[43mspecies\u001b[49m\u001b[38;5;241;43m=\u001b[39;49m\u001b[38;5;124;43m'\u001b[39;49m\u001b[38;5;124;43mcat\u001b[39;49m\u001b[38;5;124;43m'\u001b[39;49m\u001b[43m)\u001b[49m\n\u001b[1;32m    169\u001b[0m     \u001b[38;5;28;01mreturn\u001b[39;00m np\u001b[38;5;241m.\u001b[39marray(sp\u001b[38;5;241m.\u001b[39mspikes\u001b[38;5;241m.\u001b[39mvalues[\u001b[38;5;241m0\u001b[39m])\n\u001b[1;32m    170\u001b[0m \u001b[38;5;28;01melse\u001b[39;00m:  \u001b[38;5;66;03m# it remains possible to have a typo.... \u001b[39;00m\n",
      "File \u001b[0;32m~/cochlea/cochlea/zilany2014/__init__.py:109\u001b[0m, in \u001b[0;36mrun_zilany2014\u001b[0;34m(sound, fs, anf_num, cf, species, seed, cohc, cihc, powerlaw, ffGn)\u001b[0m\n\u001b[1;32m     91\u001b[0m channel_args \u001b[38;5;241m=\u001b[39m [\n\u001b[1;32m     92\u001b[0m     {\n\u001b[1;32m     93\u001b[0m         \u001b[38;5;124m'\u001b[39m\u001b[38;5;124msignal\u001b[39m\u001b[38;5;124m'\u001b[39m: sound,\n\u001b[0;32m   (...)\u001b[0m\n\u001b[1;32m    104\u001b[0m     \u001b[38;5;28;01mfor\u001b[39;00m cf \u001b[38;5;129;01min\u001b[39;00m cfs\n\u001b[1;32m    105\u001b[0m ]\n\u001b[1;32m    108\u001b[0m \u001b[38;5;66;03m### Run model for each channel\u001b[39;00m\n\u001b[0;32m--> 109\u001b[0m nested \u001b[38;5;241m=\u001b[39m \u001b[38;5;28;43mlist\u001b[39;49m\u001b[43m(\u001b[49m\u001b[38;5;28;43mmap\u001b[39;49m\u001b[43m(\u001b[49m\n\u001b[1;32m    110\u001b[0m \u001b[43m    \u001b[49m\u001b[43m_run_channel\u001b[49m\u001b[43m,\u001b[49m\n\u001b[1;32m    111\u001b[0m \u001b[43m    \u001b[49m\u001b[43mchannel_args\u001b[49m\n\u001b[1;32m    112\u001b[0m \u001b[43m\u001b[49m\u001b[43m)\u001b[49m\u001b[43m)\u001b[49m\n\u001b[1;32m    115\u001b[0m \u001b[38;5;66;03m### Unpack the results\u001b[39;00m\n\u001b[1;32m    116\u001b[0m trains \u001b[38;5;241m=\u001b[39m itertools\u001b[38;5;241m.\u001b[39mchain(\u001b[38;5;241m*\u001b[39mnested)\n",
      "File \u001b[0;32m~/cochlea/cochlea/zilany2014/__init__.py:140\u001b[0m, in \u001b[0;36m_run_channel\u001b[0;34m(args)\u001b[0m\n\u001b[1;32m    136\u001b[0m ffGn \u001b[38;5;241m=\u001b[39m args[\u001b[38;5;124m'\u001b[39m\u001b[38;5;124mffGn\u001b[39m\u001b[38;5;124m'\u001b[39m]\n\u001b[1;32m    139\u001b[0m \u001b[38;5;66;03m### Run BM, IHC\u001b[39;00m\n\u001b[0;32m--> 140\u001b[0m vihc \u001b[38;5;241m=\u001b[39m \u001b[43m_zilany2014\u001b[49m\u001b[38;5;241;43m.\u001b[39;49m\u001b[43mrun_ihc\u001b[49m\u001b[43m(\u001b[49m\n\u001b[1;32m    141\u001b[0m \u001b[43m    \u001b[49m\u001b[43msignal\u001b[49m\u001b[38;5;241;43m=\u001b[39;49m\u001b[43msignal\u001b[49m\u001b[43m,\u001b[49m\n\u001b[1;32m    142\u001b[0m \u001b[43m    \u001b[49m\u001b[43mcf\u001b[49m\u001b[38;5;241;43m=\u001b[39;49m\u001b[43mcf\u001b[49m\u001b[43m,\u001b[49m\n\u001b[1;32m    143\u001b[0m \u001b[43m    \u001b[49m\u001b[43mfs\u001b[49m\u001b[38;5;241;43m=\u001b[39;49m\u001b[43mfs\u001b[49m\u001b[43m,\u001b[49m\n\u001b[1;32m    144\u001b[0m \u001b[43m    \u001b[49m\u001b[43mspecies\u001b[49m\u001b[38;5;241;43m=\u001b[39;49m\u001b[43mspecies\u001b[49m\u001b[43m,\u001b[49m\n\u001b[1;32m    145\u001b[0m \u001b[43m    \u001b[49m\u001b[43mcohc\u001b[49m\u001b[38;5;241;43m=\u001b[39;49m\u001b[38;5;28;43mfloat\u001b[39;49m\u001b[43m(\u001b[49m\u001b[43mcohc\u001b[49m\u001b[43m)\u001b[49m\u001b[43m,\u001b[49m\n\u001b[1;32m    146\u001b[0m \u001b[43m    \u001b[49m\u001b[43mcihc\u001b[49m\u001b[38;5;241;43m=\u001b[39;49m\u001b[38;5;28;43mfloat\u001b[39;49m\u001b[43m(\u001b[49m\u001b[43mcihc\u001b[49m\u001b[43m)\u001b[49m\n\u001b[1;32m    147\u001b[0m \u001b[43m\u001b[49m\u001b[43m)\u001b[49m\n\u001b[1;32m    150\u001b[0m duration \u001b[38;5;241m=\u001b[39m \u001b[38;5;28mlen\u001b[39m(vihc) \u001b[38;5;241m/\u001b[39m fs\n\u001b[1;32m    151\u001b[0m anf_types \u001b[38;5;241m=\u001b[39m np\u001b[38;5;241m.\u001b[39mrepeat([\u001b[38;5;124m'\u001b[39m\u001b[38;5;124mhsr\u001b[39m\u001b[38;5;124m'\u001b[39m, \u001b[38;5;124m'\u001b[39m\u001b[38;5;124mmsr\u001b[39m\u001b[38;5;124m'\u001b[39m, \u001b[38;5;124m'\u001b[39m\u001b[38;5;124mlsr\u001b[39m\u001b[38;5;124m'\u001b[39m], anf_num)\n",
      "\u001b[0;31mKeyboardInterrupt\u001b[0m: "
     ]
    }
   ],
   "source": [
    "for sgc_cell in sgc_cells:\n",
    "    sgc_cell.set_sound_stim(stim, seed=74, simulator='cochlea')"
   ]
  },
  {
   "cell_type": "code",
   "execution_count": null,
   "id": "eee19e27",
   "metadata": {},
   "outputs": [],
   "source": [
    "v_fusis = []\n",
    "for fusi_cell in fusi_cells:\n",
    "     \n",
    "    v_fusi = h.Vector().record(fusi_cell.soma(0.5)._ref_v)\n",
    "    v_fusis.append(v_fusi)\n",
    "\n",
    "t = h.Vector().record(h._ref_t)"
   ]
  },
  {
   "cell_type": "code",
   "execution_count": null,
   "id": "9febf14b",
   "metadata": {},
   "outputs": [],
   "source": [
    "h.tstop = 100\n",
    "h.celsius = 34\n",
    "h.dt = 0.025\n",
    "\n",
    "cnm.util.custom_init()\n",
    "h.run()"
   ]
  }
 ],
 "metadata": {
  "kernelspec": {
   "display_name": "python3_10",
   "language": "python",
   "name": "python3"
  },
  "language_info": {
   "codemirror_mode": {
    "name": "ipython",
    "version": 3
   },
   "file_extension": ".py",
   "mimetype": "text/x-python",
   "name": "python",
   "nbconvert_exporter": "python",
   "pygments_lexer": "ipython3",
   "version": "3.10.16"
  }
 },
 "nbformat": 4,
 "nbformat_minor": 5
}
