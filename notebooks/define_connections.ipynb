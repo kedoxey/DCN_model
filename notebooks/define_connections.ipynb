{
 "cells": [
  {
   "cell_type": "code",
   "execution_count": 1,
   "metadata": {},
   "outputs": [],
   "source": [
    "import pandas as pd\n",
    "import numpy as np\n",
    "import random"
   ]
  },
  {
   "cell_type": "code",
   "execution_count": 35,
   "metadata": {},
   "outputs": [],
   "source": [
    "n_cells = 100"
   ]
  },
  {
   "cell_type": "code",
   "execution_count": null,
   "metadata": {},
   "outputs": [],
   "source": [
    "cell_ids = {'ANF': [i for i in range(n_cells)],\n",
    "            'I2': [i for i in range(n_cells)],\n",
    "            'P': [i for i in range(n_cells)]}\n",
    "\n",
    "num_octaves = 4\n",
    "\n",
    "bw_octs = {'ANF': 0.4, 'I2': 0.6, 'W': 0.1}\n",
    "bw_nums = {'ANF': int(bw_octs['ANF'] / (num_octaves/n_cells)),\n",
    "           'I2': int(bw_octs['I2'] / (num_octaves/n_cells)),\n",
    "           'W': int(bw_octs['W'] / (num_octaves/n_cells))}\n",
    "n_scales = {'ANF': 0.6,\n",
    "            'I2': 0.175,\n",
    "            'W': 0.75}\n",
    "ns = {'ANF': int(np.floor(n_scales['ANF']*bw_nums['ANF'])), \n",
    "      'I2': int(np.floor(n_scales['I2']*bw_nums['I2'])),\n",
    "      'W': int(np.floor(n_scales['W']*bw_nums['W']))}\n",
    "\n",
    "conns_list = {'ANF_I2': [],\n",
    "              'ANF_P': [],\n",
    "              'I2_P': []}\n"
   ]
  },
  {
   "cell_type": "code",
   "execution_count": 40,
   "metadata": {},
   "outputs": [
    {
     "data": {
      "text/plain": [
       "[1.6, 2.4]"
      ]
     },
     "execution_count": 40,
     "metadata": {},
     "output_type": "execute_result"
    }
   ],
   "source": [
    "[4*i for i in [0.4, 0.6]] #, 0.1]]"
   ]
  },
  {
   "cell_type": "code",
   "execution_count": 37,
   "metadata": {},
   "outputs": [
    {
     "data": {
      "text/plain": [
       "({'ANF': 10, 'I2': 15, 'W': 2}, {'ANF': 6, 'I2': 2, 'W': 1})"
      ]
     },
     "execution_count": 37,
     "metadata": {},
     "output_type": "execute_result"
    }
   ],
   "source": [
    "bw_nums, ns"
   ]
  },
  {
   "cell_type": "code",
   "execution_count": null,
   "metadata": {},
   "outputs": [],
   "source": [
    "for conn in conns_list.keys():\n",
    "\n",
    "    source = conn.split('_')[0]\n",
    "    source_ids = cell_ids[source]\n",
    "\n",
    "    target = conn.split('_')[1]\n",
    "    target_ids = cell_ids[target]\n",
    "\n",
    "    bw = bw_nums[source]\n",
    "    if bw == 1: bw += 1\n",
    "    bw_split = bw//2\n",
    "\n",
    "    conn_list = []\n",
    "    \n",
    "    for target_id in target_ids:\n",
    "\n",
    "        n_source = ns[source]\n",
    "        if n_source == 0: n_source += 1\n",
    "\n",
    "        lb = target_id - bw_split\n",
    "        if lb < 0: lb = 0\n",
    "        ub = target_id + bw_split+1\n",
    "\n",
    "        source_pool = source_ids[lb:ub]\n",
    "\n",
    "        # if n_source > bw/len(source_pool):\n",
    "        n_source *= (len(source_pool)/bw)\n",
    "\n",
    "        source_rand = random.sample(source_pool, int(np.floor(n_source)))\n",
    "\n",
    "        conn_list.extend([[i, target_id] for i in source_rand])\n",
    "    \n",
    "    conns_list[conn] = conn_list\n"
   ]
  }
 ],
 "metadata": {
  "kernelspec": {
   "display_name": "python3_10",
   "language": "python",
   "name": "python3"
  },
  "language_info": {
   "codemirror_mode": {
    "name": "ipython",
    "version": 3
   },
   "file_extension": ".py",
   "mimetype": "text/x-python",
   "name": "python",
   "nbconvert_exporter": "python",
   "pygments_lexer": "ipython3",
   "version": "3.10.16"
  }
 },
 "nbformat": 4,
 "nbformat_minor": 2
}
